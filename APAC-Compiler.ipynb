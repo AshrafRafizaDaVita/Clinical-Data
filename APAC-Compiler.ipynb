{
 "cells": [
  {
   "cell_type": "markdown",
   "metadata": {},
   "source": [
    "# Import"
   ]
  },
  {
   "cell_type": "code",
   "execution_count": 1,
   "metadata": {},
   "outputs": [],
   "source": [
    "%load_ext autoreload\n",
    "%autoreload 2\n",
    "from DataProcessing import *"
   ]
  },
  {
   "cell_type": "markdown",
   "metadata": {},
   "source": [
    "# Read APAC File"
   ]
  },
  {
   "cell_type": "markdown",
   "metadata": {},
   "source": [
    "## From Shared Folder"
   ]
  },
  {
   "cell_type": "code",
   "execution_count": null,
   "metadata": {},
   "outputs": [],
   "source": [
    "df = read_apac_folders('2024_Nov')\n",
    "df"
   ]
  },
  {
   "cell_type": "markdown",
   "metadata": {},
   "source": [
    "# Checking"
   ]
  },
  {
   "cell_type": "markdown",
   "metadata": {},
   "source": [
    "## Blank Cells"
   ]
  },
  {
   "cell_type": "code",
   "execution_count": null,
   "metadata": {},
   "outputs": [],
   "source": [
    "check_blanks(df)"
   ]
  },
  {
   "cell_type": "markdown",
   "metadata": {},
   "source": [
    "## Value Errors"
   ]
  },
  {
   "cell_type": "code",
   "execution_count": null,
   "metadata": {},
   "outputs": [],
   "source": [
    "check_values(df)"
   ]
  },
  {
   "cell_type": "markdown",
   "metadata": {},
   "source": [
    "# Copy APAC Files in Local C into Shared Folder"
   ]
  },
  {
   "cell_type": "code",
   "execution_count": 6,
   "metadata": {},
   "outputs": [
    {
     "name": "stdout",
     "output_type": "stream",
     "text": [
      "Total files: 26\n",
      "No matching folder found for 2023Aug\n",
      "No matching folder found for 2023Dec\n",
      "No matching folder found for 2023Jul\n",
      "No matching folder found for 2023Jun\n",
      "No matching folder found for 2023Nov\n",
      "No matching folder found for 2023Oct\n",
      "No matching folder found for 2023Sep\n",
      "No matching folder found for 2024Apr\n",
      "No matching folder found for 2024Aug\n",
      "No matching folder found for 2024Dec\n",
      "No matching folder found for 2024Dec - Copy\n",
      "No matching folder found for 2024Feb\n",
      "No matching folder found for 2024Jan\n",
      "No matching folder found for 2024Jul\n",
      "No matching folder found for 2024Jul-Jerantut\n",
      "No matching folder found for 2024Jun\n",
      "No matching folder found for 2024Mar\n",
      "No matching folder found for 2024Mar_\n",
      "No matching folder found for 2024May\n",
      "No matching folder found for 2024Nov\n",
      "No matching folder found for 2024Oct\n",
      "No matching folder found for 2024Oct-AG\n",
      "No matching folder found for 2024Oct-SA\n",
      "No matching folder found for 2024Oct-TTJ\n",
      "No matching folder found for 2024Sep\n",
      "No matching folder found for Dump\n"
     ]
    }
   ],
   "source": [
    "copy_apac = input('Copy APAC files to Shared Folder? (Y/N) :')\n",
    "sourceFolderMonth = input('Which month folder of APAC to copy? : ')\n",
    "\n",
    "if copy_apac == 'Y':    \n",
    "    copy_apac_to_sharefolder(sourceFolderMonth)"
   ]
  }
 ],
 "metadata": {
  "kernelspec": {
   "display_name": "base",
   "language": "python",
   "name": "python3"
  },
  "language_info": {
   "codemirror_mode": {
    "name": "ipython",
    "version": 3
   },
   "file_extension": ".py",
   "mimetype": "text/x-python",
   "name": "python",
   "nbconvert_exporter": "python",
   "pygments_lexer": "ipython3",
   "version": "3.12.3"
  }
 },
 "nbformat": 4,
 "nbformat_minor": 2
}
