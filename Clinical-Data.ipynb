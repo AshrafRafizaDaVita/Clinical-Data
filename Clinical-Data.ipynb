{
 "cells": [
  {
   "cell_type": "markdown",
   "metadata": {},
   "source": [
    "# Import"
   ]
  },
  {
   "cell_type": "code",
   "execution_count": 22,
   "metadata": {},
   "outputs": [
    {
     "name": "stdout",
     "output_type": "stream",
     "text": [
      "The autoreload extension is already loaded. To reload it, use:\n",
      "  %reload_ext autoreload\n"
     ]
    }
   ],
   "source": [
    "%load_ext autoreload\n",
    "%autoreload 2\n",
    "from DataProcessing import *"
   ]
  },
  {
   "cell_type": "markdown",
   "metadata": {},
   "source": [
    "# Setting\n",
    "- to specify month"
   ]
  },
  {
   "cell_type": "code",
   "execution_count": 23,
   "metadata": {},
   "outputs": [],
   "source": [
    "selected_month = '2024-11'"
   ]
  },
  {
   "cell_type": "markdown",
   "metadata": {},
   "source": [
    "# Medical Outcomes"
   ]
  },
  {
   "cell_type": "markdown",
   "metadata": {},
   "source": [
    "## Read APAC and Generate Result Data"
   ]
  },
  {
   "cell_type": "code",
   "execution_count": 24,
   "metadata": {},
   "outputs": [
    {
     "name": "stdout",
     "output_type": "stream",
     "text": [
      "Link Exist Region 1 ALOR SETAR: Z:\\\\Dr.Tan\\\\2022\\\\17CSSFA\\\\Region1\\\\Alor Setar\\\\APAC\\2024_Nov_ALOR SETAR_APAC_v14.11_2024_11_21_10_01_57.xlsx\n",
      "Link Exist Region 1 GURUN: Z:\\\\Dr.Tan\\\\2022\\\\17CSSFA\\\\Region1\\\\Gurun\\\\APAC\\2024_Nov_GURUN_APAC_v14.11_2024_11_21_10_02_04.xlsx\n",
      "Link Exist Region 1 KANGAR: Z:\\\\Dr.Tan\\\\2022\\\\17CSSFA\\\\Region1\\\\Kangar\\\\APAC\\2024_Nov_KANGAR_APAC_v14.11_2024_11_21_10_03_02.xlsx\n",
      "Link Exist Region 1 PENDANG: Z:\\\\Dr.Tan\\\\2022\\\\17CSSFA\\\\Region1\\\\Pendang\\\\APAC\\2024_Nov_PENDANG_APAC_v14.11_2024_11_21_10_02_12.xlsx\n",
      "Link Exist Region 1 SEBERANG PERAI: Z:\\\\Dr.Tan\\\\2022\\\\17CSSFA\\\\Region1\\\\Seberang Perai\\\\APAC\\2024_Nov_SEBERANG PERAI_APAC_v14.11_2024_11_21_10_02_41.xlsx\n",
      "Link Exist Region 1 SUNGAI SIPUT: Z:\\\\Dr.Tan\\\\2022\\\\17CSSFA\\\\Region1\\\\Sg Siput\\\\APAC\\2024_Nov_SUNGAI SIPUT_APAC_v14.11_2024_11_21_10_02_52.xlsx\n",
      "Link Exist Region 1 SG PETANI SELATAN: Z:\\\\Dr.Tan\\\\2022\\\\17CSSFA\\\\Region1\\\\SPS\\\\APAC\\2024_Nov_SG PETANI SELATAN_APAC_v14.11_2024_11_21_10_02_20.xlsx\n",
      "Link Exist Region 1 SG PETANI UTARA: Z:\\\\Dr.Tan\\\\2022\\\\17CSSFA\\\\Region1\\\\SPU\\\\APAC\\2024_Nov_SG PETANI UTARA_APAC_v14.11_2024_11_21_10_02_30.xlsx\n",
      "Link Exist Region 1 PEKAN BARU: Z:\\\\Dr.Tan\\\\2022\\\\17CSSFA\\\\Region1\\\\Pekan Baru\\\\APAC\\2024_Nov_PEKAN BARU_APAC_v14.11_2024_11_21_10_04_19.xlsx\n",
      "Link Exist Region 2 BANGI: Z:\\\\Dr.Tan\\\\2022\\17CSSFA\\\\Region2\\\\Bangi\\\\APAC\\2024_Nov_BANGI_APAC_v14.11_2024_11_21_09_57_03.xlsx\n",
      "Link Exist Region 2 BATANG BERJUNTAI: Z:\\\\Dr.Tan\\\\2022\\\\17CSSFA\\\\Region2\\\\Batang Berjuntai\\\\APAC\\2024_Nov_BATANG BERJUNTAI_APAC_v14.11_2024_11_21_10_00_31.xlsx\n",
      "Link Exist Region 2 CHERAS: Z:\\\\Dr.Tan\\\\2022\\\\17CSSFA\\\\Region2\\\\Cheras\\\\APAC\\2024_Nov_CHERAS_APAC_v14.11_2024_11_21_09_56_23.xlsx\n",
      "Link Exist Region 2 KAJANG: Z:\\\\Dr.Tan\\\\2022\\\\17CSSFA\\\\Region2\\\\Kajang\\\\APAC\\2024_Nov_KAJANG_APAC_v14.11_2024_11_21_09_57_15.xlsx\n",
      "Link Exist Region 2 KOTA WARISAN: Z:\\\\Dr.Tan\\\\2022\\\\17CSSFA\\\\Region2\\\\Kota Warisan\\2024_Nov_KOTA WARISAN_APAC_v14.11_2024_11_21_10_04_14.xlsx\n",
      "Link Exist Region 2 PUCHONG: Z:\\\\Dr.Tan\\\\2022\\\\17CSSFA\\\\Region2\\\\Puchong\\\\APAC\\2024_Nov_PUCHONG_APAC_v14.11_2024_11_21_09_57_29.xlsx\n",
      "Link Exist Region 2 SABAK BERNAM: Z:\\\\Dr.Tan\\\\2022\\\\17CSSFA\\\\Region2\\\\Sabak  Bernam\\\\APAC\\2024_Nov_SABAK BERNAM_APAC_v14.11_2024_11_21_10_01_18.xlsx\n",
      "Link Exist Region 2 SG BESAR: Z:\\\\Dr.Tan\\\\2022\\\\17CSSFA\\\\Region2\\\\Sg Besar\\\\APAC\\2024_Nov_SG BESAR_APAC_v14.11_2024_11_21_10_01_31.xlsx\n",
      "Link Exist Region 2 TANJUNG KARANG: Z:\\\\Dr.Tan\\\\2022\\\\17CSSFA\\\\Region2\\\\Tanjung Karang\\\\APAC\\2024_Nov_TANJUNG KARANG_APAC_v14.11_2024_11_21_10_01_41.xlsx\n",
      "Link Exist Region 3 ANDALAS: Z:\\\\Dr.Tan\\\\2022\\\\17CSSFA\\\\Region3\\\\Andalas\\\\APAC\\2024_Nov_ANDALAS_APAC_v14.11_2024_11_21_10_00_16.xlsx\n",
      "Link Exist Region 3 KUALA PILAH: Z:\\\\Dr.Tan\\\\2022\\\\17CSSFA\\\\Region3\\\\Kuala Pilah\\\\APAC\\2024_Nov_KUALA PILAH_APAC_v14.11_2024_11_21_09_59_11.xlsx\n",
      "Link Exist Region 3 MERU: Z:\\\\Dr.Tan\\\\2022\\\\17CSSFA\\\\Region3\\\\Meru\\\\APAC\\2024_Nov_MERU_APAC_v14.11_2024_11_21_10_01_04.xlsx\n",
      "Link Exist Region 3 RAWANG: Z:\\\\Dr.Tan\\\\2022\\\\17CSSFA\\\\Region3\\\\Rawang\\\\APAC\\2024_Nov_RAWANG_APAC_v14.11_2024_11_21_10_00_40.xlsx\n",
      "Link Exist Region 3 REMBAU: Z:\\\\Dr.Tan\\\\2022\\\\17CSSFA\\\\Region3\\\\Rembau\\\\APAC\\2024_Nov_REMBAU_APAC_v14.11_2024_11_21_09_59_24.xlsx\n",
      "Link Exist Region 3 SEREMBAN: Z:\\\\Dr.Tan\\\\2022\\\\17CSSFA\\\\Region3\\\\Seremban\\\\APAC\\2024_Nov_SEREMBAN_APAC_v14.11_2024_11_21_09_59_32.xlsx\n",
      "Link Exist Region 3 SRI RAMPAI: Z:\\\\Dr.Tan\\\\2022\\\\17CSSFA\\\\Region3\\\\Sri Rampai\\\\APAC\\2024_Nov_SRI RAMPAI_APAC_v14.11_2024_11_21_09_56_37.xlsx\n",
      "Link Exist Region 3 TAMAN TASIK JAYA: Z:\\\\Dr.Tan\\\\2022\\\\17CSSFA\\\\Region3\\\\Taman Tasik Jaya\\\\APAC\\2024_Nov_TAMAN TASIK JAYA_APAC_v14.11_2024_11_21_09_59_45.xlsx\n",
      "Link Exist Region 3 WANGSA MAJU: Z:\\\\Dr.Tan\\\\2022\\\\17CSSFA\\\\Region3\\\\Wangsa Maju\\\\APAC\\2024_Nov_WANGSA MAJU_APAC_v14.11_2024_11_21_09_56_49.xlsx\n",
      "Link Exist Region 4 BANDAR BARU UDA: Z:\\\\Dr.Tan\\\\2022\\\\17CSSFA\\\\Region4\\\\Bandar Baru Uda\\\\APAC\\2024_Nov_BANDAR BARU UDA_APAC_v14.11_2024_11_21_09_57_49.xlsx\n",
      "Link Exist Region 4 BATU BERENDAM: Z:\\\\Dr.Tan\\\\2022\\\\17CSSFA\\\\Region4\\\\Batu Berendam\\\\APAC\\2024_Nov_BATU BERENDAM_APAC_v14.11_2024_11_21_09_58_45.xlsx\n",
      "Link Exist Region 4 KOTA TINGGI: Z:\\\\Dr.Tan\\\\2022\\\\17CSSFA\\\\Region4\\\\Kota Tinggi\\\\APAC\\2024_Nov_KOTA TINGGI_APAC_v14.11_2024_11_21_09_58_14.xlsx\n",
      "Link Exist Region 4 KUALA SUNGAI BARU: Z:\\\\Dr.Tan\\\\2022\\\\17CSSFA\\\\Region4\\\\Kuala Sungai Baru\\\\APAC\\2024_Nov_KUALA SUNGAI BARU_APAC_v14.11_2024_11_21_09_58_54.xlsx\n",
      "Link Exist Region 4 MASJID TANAH: Z:\\\\Dr.Tan\\\\2022\\\\17CSSFA\\\\Region4\\\\Masjid Tanah\\\\APAC\\2024_Nov_MASJID TANAH_APAC_v14.11_2024_11_21_09_59_01.xlsx\n",
      "Link Exist Region 4 BENUT: Z:\\\\Dr.Tan\\\\2022\\\\17CSSFA\\\\Region4\\\\Benut\\\\APAC\\2024_Nov_BENUT_APAC_v14.11_2024_11_21_09_57_58.xlsx\n",
      "Link Exist Region 4 PONTIAN: Z:\\\\Dr.Tan\\\\2022\\\\17CSSFA\\\\Region4\\\\Pontian\\\\APAC\\2024_Nov_PONTIAN_APAC_v14.11_2024_11_21_09_58_31.xlsx\n",
      "Link Exist Region 4 JOHOR BAHRU: Z:\\\\Dr.Tan\\\\2022\\\\17CSSFA\\\\Region4\\\\Landmark\\\\APAC\\2024_Nov_JOHOR BAHRU_APAC_v14.11_2024_11_21_10_03_52.xlsx\n",
      "Link Exist Region 4 TAMAN SERI SETIA: Z:\\\\Dr.Tan\\\\2022\\\\17CSSFA\\\\Region4\\\\TSS\\\\APAC\\2024_Nov_TAMAN SERI SETIA_APAC_v14.11_2024_11_21_10_04_01.xlsx\n",
      "Link Exist Region 5 BANGSAR: Z:\\\\Dr.Tan\\\\2022\\\\17CSSFA\\\\Region5\\\\Bangsar\\\\APAC Data\\2024_Nov_BANGSAR_APAC_v14.11_2024_11_21_09_56_13.xlsx\n",
      "Link Exist Region 5 JERANTUT: Z:\\\\Dr.Tan\\\\2022\\\\17CSSFA\\\\Region5\\\\Jerantut\\\\APAC\\2024_Nov_JERANTUT_APAC_v14.11_2024_11_21_09_59_49.xlsx\n",
      "Link Exist Region 5 KOTA KINABALU: Z:\\\\Dr.Tan\\\\2022\\\\17CSSFA\\\\Region5\\\\Kota Kinabalu\\\\APAC\\2024_Nov_KOTA KINABALU_APAC_v14.11_2024_11_21_10_03_09.xlsx\n",
      "Link Exist Region 5 PAPAR: Z:\\\\Dr.Tan\\\\2022\\\\17CSSFA\\\\Region5\\\\Papar\\\\APAC\\2024_Nov_PAPAR_APAC_v14.11_2024_11_21_10_04_12.xlsx\n",
      "Link Exist Region 5 SANDAKAN: Z:\\\\Dr.Tan\\\\2022\\\\17CSSFA\\\\Region5\\\\sandakan\\\\APAC\\2024_Nov_SANDAKAN_APAC_v14.11_2024_11_21_10_03_24.xlsx\n",
      "Link Exist Region 5 TULIPS: Z:\\\\Dr.Tan\\\\2022\\\\17CSSFA\\\\Region5\\\\Tulips\\\\APAC\\2024_Nov_TULIPS_APAC_v14.11_2024_11_21_10_00_02.xlsx\n",
      "Link Exist Region 5 TAMANSARI: Z:\\\\Dr.Tan\\\\2022\\\\17CSSFA\\\\Region5\\\\Tamansari\\\\APAC\\2024_Nov_TAMANSARI_APAC_v14.11_2024_11_21_10_00_40 - Copy.xlsx\n",
      "Link Exist Region 5 ANTARA GAPI: Z:\\\\Dr.Tan\\\\2022\\\\17CSSFA\\\\Region5\\\\Antaragapi\\\\APAC Data\\2024_Nov_ANTARA GAPI_APAC_v14.11_2024_11_21_10_04_20.xlsx\n",
      "\n",
      "Total Centers: 44\n",
      "\n",
      "Total data size: 2257\n",
      "Total duplicate: 3\n",
      "Total HB not null: 2253, 99.8%\n"
     ]
    }
   ],
   "source": [
    "medical_outcomes = monthly_Clinical_data(selected_month)"
   ]
  },
  {
   "cell_type": "markdown",
   "metadata": {},
   "source": [
    "## Explode data to Individual Outcomes"
   ]
  },
  {
   "cell_type": "code",
   "execution_count": 25,
   "metadata": {},
   "outputs": [],
   "source": [
    "outcomes = sepResult(medical_outcomes)"
   ]
  },
  {
   "cell_type": "markdown",
   "metadata": {},
   "source": [
    "# Overall Data"
   ]
  },
  {
   "cell_type": "code",
   "execution_count": 26,
   "metadata": {},
   "outputs": [
    {
     "name": "stdout",
     "output_type": "stream",
     "text": [
      "Total Unique Patient 2024-11: 2395\n",
      "Total Active patient: 2368\n",
      "Total Mortality: 15\n",
      "Total Hospital Admission: 229.0\n"
     ]
    }
   ],
   "source": [
    "allData = overallData(selected_month, outcomes)"
   ]
  },
  {
   "cell_type": "code",
   "execution_count": 27,
   "metadata": {},
   "outputs": [],
   "source": [
    "dff = available_MO()"
   ]
  },
  {
   "cell_type": "code",
   "execution_count": 28,
   "metadata": {},
   "outputs": [],
   "source": [
    "dfs = replaceNullResult(allData)"
   ]
  },
  {
   "cell_type": "code",
   "execution_count": 29,
   "metadata": {},
   "outputs": [
    {
     "data": {
      "text/html": [
       "<div>\n",
       "<style scoped>\n",
       "    .dataframe tbody tr th:only-of-type {\n",
       "        vertical-align: middle;\n",
       "    }\n",
       "\n",
       "    .dataframe tbody tr th {\n",
       "        vertical-align: top;\n",
       "    }\n",
       "\n",
       "    .dataframe thead th {\n",
       "        text-align: right;\n",
       "    }\n",
       "</style>\n",
       "<table border=\"1\" class=\"dataframe\">\n",
       "  <thead>\n",
       "    <tr style=\"text-align: right;\">\n",
       "      <th></th>\n",
       "      <th>MR No.</th>\n",
       "      <th>IDH</th>\n",
       "    </tr>\n",
       "  </thead>\n",
       "  <tbody>\n",
       "    <tr>\n",
       "      <th>0</th>\n",
       "      <td>MR000005</td>\n",
       "      <td>3.42</td>\n",
       "    </tr>\n",
       "    <tr>\n",
       "      <th>1</th>\n",
       "      <td>MR000008</td>\n",
       "      <td>4.14</td>\n",
       "    </tr>\n",
       "    <tr>\n",
       "      <th>2</th>\n",
       "      <td>MR000022</td>\n",
       "      <td>4.22</td>\n",
       "    </tr>\n",
       "    <tr>\n",
       "      <th>3</th>\n",
       "      <td>MR000024</td>\n",
       "      <td>4.12</td>\n",
       "    </tr>\n",
       "    <tr>\n",
       "      <th>4</th>\n",
       "      <td>MR000027</td>\n",
       "      <td>3.98</td>\n",
       "    </tr>\n",
       "    <tr>\n",
       "      <th>...</th>\n",
       "      <td>...</td>\n",
       "      <td>...</td>\n",
       "    </tr>\n",
       "    <tr>\n",
       "      <th>2378</th>\n",
       "      <td>MR008618</td>\n",
       "      <td>0.00</td>\n",
       "    </tr>\n",
       "    <tr>\n",
       "      <th>2379</th>\n",
       "      <td>MR008615</td>\n",
       "      <td>1.74</td>\n",
       "    </tr>\n",
       "    <tr>\n",
       "      <th>2380</th>\n",
       "      <td>MR008619</td>\n",
       "      <td>0.00</td>\n",
       "    </tr>\n",
       "    <tr>\n",
       "      <th>2381</th>\n",
       "      <td>MR007621</td>\n",
       "      <td>6.45</td>\n",
       "    </tr>\n",
       "    <tr>\n",
       "      <th>2382</th>\n",
       "      <td>MR007745</td>\n",
       "      <td>0.61</td>\n",
       "    </tr>\n",
       "  </tbody>\n",
       "</table>\n",
       "<p>2383 rows × 2 columns</p>\n",
       "</div>"
      ],
      "text/plain": [
       "        MR No.   IDH\n",
       "0     MR000005  3.42\n",
       "1     MR000008  4.14\n",
       "2     MR000022  4.22\n",
       "3     MR000024  4.12\n",
       "4     MR000027  3.98\n",
       "...        ...   ...\n",
       "2378  MR008618  0.00\n",
       "2379  MR008615  1.74\n",
       "2380  MR008619  0.00\n",
       "2381  MR007621  6.45\n",
       "2382  MR007745  0.61\n",
       "\n",
       "[2383 rows x 2 columns]"
      ]
     },
     "execution_count": 29,
     "metadata": {},
     "output_type": "execute_result"
    }
   ],
   "source": [
    "genIDWG(selected_month)"
   ]
  }
 ],
 "metadata": {
  "kernelspec": {
   "display_name": "base",
   "language": "python",
   "name": "python3"
  },
  "language_info": {
   "codemirror_mode": {
    "name": "ipython",
    "version": 3
   },
   "file_extension": ".py",
   "mimetype": "text/x-python",
   "name": "python",
   "nbconvert_exporter": "python",
   "pygments_lexer": "ipython3",
   "version": "3.12.3"
  }
 },
 "nbformat": 4,
 "nbformat_minor": 2
}
